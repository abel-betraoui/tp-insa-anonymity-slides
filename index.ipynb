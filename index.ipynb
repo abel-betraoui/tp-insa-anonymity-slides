{
 "cells": [
  {
   "cell_type": "markdown",
   "id": "8e47fc93",
   "metadata": {
    "slideshow": {
     "slide_type": "slide"
    }
   },
   "source": [
    "# TP 3: Données personnelles, données sensibles & anonymisation\n",
    "\n",
    "\n",
    "Le code est à récupérer depuis le git:\n",
    "\n",
    "```\n",
    "git clone https://github.com/abel-betraoui/tp-insa-anonymity.git \n",
    "```\n",
    "\n",
    "![insa_logo](images/insa.svg)"
   ]
  },
  {
   "cell_type": "markdown",
   "id": "f2142caf",
   "metadata": {
    "slideshow": {
     "slide_type": "notes"
    }
   },
   "source": [
    "* https://data.grandbesancon.fr/opendata/dataset/publicationsEtatCivilNaissance"
   ]
  },
  {
   "cell_type": "markdown",
   "id": "979eb957",
   "metadata": {
    "slideshow": {
     "slide_type": "slide"
    }
   },
   "source": [
    "## Données personnelles\n",
    "\n",
    "\n",
    "Une donnée personnelle est toute information se rapportant à une personne physique identifiée ou identifiable. Mais, parce qu’elles concernent des personnes, celles-ci doivent en conserver la maîtrise.\n",
    "\n",
    "(Source: https://www.cnil.fr/fr/definition/donnee-personnelle)\n",
    "\n"
   ]
  },
  {
   "cell_type": "markdown",
   "id": "9aad311b",
   "metadata": {
    "slideshow": {
     "slide_type": "subslide"
    }
   },
   "source": [
    "Une personne physique peut être identifiée :\n",
    "\n",
    "* **directement** (exemple : nom et prénom) ;\n",
    "* **indirectement** (exemple : par un numéro de téléphone ou de plaque d’immatriculation, un identifiant tel que le numéro de sécurité sociale, une adresse postale ou courriel, mais aussi la voix ou l’image).\n",
    "\n",
    "<center>\n",
    "    \n",
    "<img src=\"images/bored_resized.gif\" width=\"240\" alt=\"bored\">\n",
    "</center>"
   ]
  },
  {
   "cell_type": "markdown",
   "id": "946c5e95",
   "metadata": {
    "slideshow": {
     "slide_type": "subslide"
    }
   },
   "source": [
    "L’identification d’une personne physique peut être réalisée :\n",
    "\n",
    "* à partir d’une seule donnée (exemple : nom) ;\n",
    "* à partir du **croisement d’un ensemble de données** (exemple : une femme vivant à telle adresse, née tel jour et membre dans telle association) :\n",
    "\n",
    "<center>\n",
    "    \n",
    "<img src=\"images/yawn.gif\" alt=\"yawn\">\n",
    "</center>"
   ]
  },
  {
   "cell_type": "markdown",
   "id": "bb747414",
   "metadata": {
    "slideshow": {
     "slide_type": "notes"
    }
   },
   "source": [
    "## Droits des personnes associés à leurs données\n",
    "\n",
    "* **droit à l’information**: Toute personne a un droit de regard sur ses propres données ; par conséquent, quiconque met en œuvre un fichier ou un traitement de données personnelles est obligé d’informer les personnes fichées de son identité, de l’objectif de la collecte d’informations et de son caractère obligatoire ou facultatif, des destinataires des informations, des droits reconnus à la personne, des éventuels transferts de données vers un pays hors de l’Union européenne.\n",
    "* **droit d’accès**: Toute personne peut prendre connaissance de l’intégralité des données la concernant dans un fichier en s’adressant directement à ceux qui les détiennent, et en obtenir une copie dont le coût ne peut dépasser celui de la reproduction.\n",
    "* **droit d’accès indirect**: Toute personne peut demander que la CNIL vérifie les renseignements qui peuvent la concerner dans les fichiers intéressant la sûreté de l’État, la Défense et la Sécurité publique.\n",
    "* **droit de rectification**: Toute personne peut faire rectifier, compléter, actualiser, verrouiller ou effacer des informations la concernant lorsqu’ont été décelées des erreurs, des inexactitudes ou la présence de données dont la collecte, l’utilisation, la communication ou la conservation est interdite.\n",
    "* **droit d’opposition**: Toute personne a la possibilité de s’opposer, pour des motifs légitimes, à figurer dans un fichier, et peut refuser sans avoir à se justifier, que les données qui la concernent soient utilisées à des fins de prospection commerciale.\n",
    "* **La finalité du traitement**: La finalité du traitement est l’objectif principal de l’utilisation de données personnelles. Les données sont collectées pour un but bien déterminé et légitime et ne sont pas traitées ultérieurement de façon incompatible avec cet objectif initial. Ce principe de finalité limite la manière dont le responsable de traitement peut utiliser ou réutiliser ces données dans le futur. (ex: gestion des recrutements, gestion des paies, gestion des clients, enquête de satisfaction, surveillance des locaux, etc.)\n",
    "* **accountability**:  L’accountability désigne l’obligation pour les entreprises de mettre en œuvre des mécanismes et des procédures internes permettant de démontrer le respect des règles relatives à la protection des données."
   ]
  },
  {
   "cell_type": "markdown",
   "id": "94e020ac",
   "metadata": {
    "slideshow": {
     "slide_type": "slide"
    }
   },
   "source": [
    "## Données sensibles\n",
    "\n",
    "Les données sensibles forment une **catégorie particulière des données personnelles**.\n",
    "Ce sont des informations qui révèlent la prétendue **origine raciale ou ethnique**, les **opinions politiques**, les **convictions religieuses ou philosophiques** ou l'**appartenance syndicale**, ainsi que le traitement des **données génétiques**, des **données biométriques** aux fins d'identifier une personne physique de manière unique, des données concernant **la santé** ou des données concernant la **vie sexuelle** ou l'**orientation sexuelle** d'une personne physique. \n",
    "\n",
    "(Source: https://www.cnil.fr/fr/definition/donnee-sensible)\n",
    "\n",
    "<center>\n",
    "    \n",
    "<img src=\"images/sleep_resized.gif\" width=\"240\" alt=\"sleep\">\n",
    "</center>"
   ]
  },
  {
   "cell_type": "markdown",
   "id": "17e308aa",
   "metadata": {
    "slideshow": {
     "slide_type": "notes"
    }
   },
   "source": [
    "Le règlement européen interdit de recueillir ou d’utiliser ces données, sauf, notamment, dans les cas suivants :\n",
    "\n",
    "* **si la personne concernée a donné son consentement exprès** (démarche active, explicite et de préférence écrite, qui doit être libre, spécifique, et informée) ;\n",
    "* si les informations sont manifestement rendues publiques par la personne concernée\n",
    "* **si elles sont nécessaires à la sauvegarde de la vie humaine**\n",
    "* **si leur utilisation est justifiée par l'intérêt public et autorisé par la CNIL**\n",
    "* si elles concernent les membres ou adhérents d'une association ou d'une organisation politique, religieuse, philosophique, politique ou syndicale. \n"
   ]
  },
  {
   "cell_type": "markdown",
   "id": "b46de803",
   "metadata": {
    "slideshow": {
     "slide_type": "slide"
    }
   },
   "source": [
    "# Objectifs du TP \n",
    "\n",
    "* Vous souhaitez évaluer l'influence de plusieurs facteurs sur la **tension arterielle** d'une cohorte d'ancien fumeurs. Ces facteurs sont l'**âge**, le **sexe**, la **consommation d'alcool**, l'**activité physique**, un facteur environnemental (ici résumé par leur **localisation géographique**). \n",
    "\n",
    "* Vous avez constitué un fichier de données décrivant **1077 patients** à partir duquel vous souhaitez réaliser votre étude.\n",
    "\n",
    "* Vous souhaitez traiter ces données en faisant attention à la confidentialité des données personnelles et sensibles des patients. A cette fin, vous allez vous mettre dans la peau d'une personne malveillante pour voir à quel point les méthodes que vous mettrez en oeuvre résisteront à la créativité humaine."
   ]
  },
  {
   "cell_type": "markdown",
   "id": "34e858e8",
   "metadata": {
    "slideshow": {
     "slide_type": "subslide"
    }
   },
   "source": [
    "## Dans le monde réel, les données sont normalement protégées\n",
    "\n",
    "* chiffrement\n",
    "* droits utilisateurs\n",
    "* sécurité réseau \n",
    "* remote execution\n",
    "\n",
    "* ...\n",
    "\n",
    "\n",
    "mais ce n'est pas suffisant."
   ]
  },
  {
   "cell_type": "markdown",
   "id": "c079615d",
   "metadata": {
    "slideshow": {
     "slide_type": "notes"
    }
   },
   "source": [
    "* https://neptune.ai/blog/using-differential-privacy-to-build-secure-models-tools-methods-best-practices\n",
    "* https://www.openmined.org/"
   ]
  },
  {
   "cell_type": "markdown",
   "id": "9149fcd1",
   "metadata": {
    "slideshow": {
     "slide_type": "subslide"
    }
   },
   "source": [
    "## Base d'identification\n",
    "\n",
    "Afin de chercher à ré-identifier vos patients vous constituez une base d'identification à partir:\n",
    "\n",
    "* De données obtenues légalement par achat d'un fichier client sur un site de marketting B2C\n",
    "* De données obtenues illégalement après compromission d'une base de données d'un fabricant de cigarettes électroniques (vous espérez retrouver un certain nombre de patients dans cette base)\n"
   ]
  },
  {
   "cell_type": "markdown",
   "id": "934f5f3c",
   "metadata": {
    "slideshow": {
     "slide_type": "subslide"
    }
   },
   "source": [
    "* exemple de données personnelles qui pourraient être obenues légalement: https://letmegooglethat.com/?q=achat+fichier+client\n",
    "* exemple de données personnelles qui pourraient être obenues illégalement (e.g. data breaches): https://haveibeenpwned.com/PwnedWebsites#Collection1"
   ]
  },
  {
   "cell_type": "markdown",
   "id": "d6fa5cb0",
   "metadata": {
    "slideshow": {
     "slide_type": "notes"
    }
   },
   "source": [
    "* \"enrichir sa base de données client\": https://www.rocket-services.com/blog/2019/06/24/8-techniques-marketing-enrichir-base-de-donnees-client/"
   ]
  },
  {
   "cell_type": "markdown",
   "id": "864512e2",
   "metadata": {
    "slideshow": {
     "slide_type": "subslide"
    }
   },
   "source": [
    "* exemple de données personnelles très informatives qui pourraient être obtenues illégalement si elles étaient compromises : https://www.reuters.com/investigates/special-report/tobacco-iqos-device/. \n",
    "\n",
    "<img src=\"images/ecig_reuters.png\" width=\"600\" alt=\"reuters_article\">"
   ]
  },
  {
   "cell_type": "markdown",
   "id": "347152c9",
   "metadata": {
    "slideshow": {
     "slide_type": "subslide"
    }
   },
   "source": [
    "* Vous saurez trouver à partir d'une recherche sur votre moteur préféré des fabricants de cigarettes électroniques européens & français qui collectent suffisamment de données sur leur clients pour servir de base d'indentification."
   ]
  },
  {
   "cell_type": "markdown",
   "id": "27a3f9c9",
   "metadata": {
    "slideshow": {
     "slide_type": "slide"
    }
   },
   "source": [
    "## Etape 0: Récupérez le code & les jeux de données\n",
    "\n",
    "Vous trouverez dans le repo git:\n",
    "\n",
    "* La solution du TP\n",
    "* Le package **anonymity** (quelques fonctions dont nous aurons besoin plus tard dans le TP) \n",
    "\n",
    "\n",
    "Vous disposez de deux fichiers:\n",
    "\n",
    "* **data/personal_data.csv**: votre base d'identification\n",
    "* **data/sensitive_data.csv**: les données de votre étude"
   ]
  },
  {
   "cell_type": "markdown",
   "id": "9452ea53",
   "metadata": {
    "slideshow": {
     "slide_type": "slide"
    }
   },
   "source": [
    "## Etape 1 - chargez les données \n",
    "\n",
    "1. Créez une base sqlite localement\n",
    "2. Créez deux tables et uploadez les données\n",
    "3. Récupérez les tables sous forme de dataframe python et faites une exploration rapide de ces données.\n",
    "4. Quelles sont selon vous dans **data/sensitive_data.csv** les données personnelles (identificateurs & quasi-identificateurs) et les données sensibles ?\n",
    "5. De combien de patients retrouvez vous le nom en faisant une jointure entre ces deux tables ?"
   ]
  },
  {
   "cell_type": "markdown",
   "id": "44cfa188",
   "metadata": {
    "slideshow": {
     "slide_type": "slide"
    }
   },
   "source": [
    "# Pseudonymisation\n",
    "\n",
    "La pseudonymisation est un traitement de données personnelles réalisé de manière à ce qu'on ne puisse plus attribuer les données relatives à une personne physique sans information supplémentaire. \n",
    "\n",
    "L’opération de pseudonymisation est [...] **réversible**, contrairement à l’anonymisation."
   ]
  },
  {
   "cell_type": "markdown",
   "id": "66e606fb",
   "metadata": {
    "slideshow": {
     "slide_type": "subslide"
    }
   },
   "source": [
    "En pratique, la pseudonymisation consiste à remplacer les données directement identifiantes (nom, prénom, etc.) d’un jeu de données par des données indirectement identifiantes (alias, numéro séquentiel, etc.)."
   ]
  },
  {
   "cell_type": "markdown",
   "id": "dee0ff3f",
   "metadata": {
    "slideshow": {
     "slide_type": "slide"
    }
   },
   "source": [
    "# Pseudonymisation & Anonymisation \n",
    "\n",
    "L’anonymisation est un traitement qui consiste à utiliser un ensemble de techniques de manière à rendre **impossible**, en pratique, toute identification de la personne par quelque moyen que ce soit et de manière **irréversible**.\n",
    "\n"
   ]
  },
  {
   "cell_type": "markdown",
   "id": "790953e5",
   "metadata": {
    "slideshow": {
     "slide_type": "notes"
    }
   },
   "source": [
    "## Remarques\n",
    "\n",
    "Le règlement général sur la protection des données (RGPD) ne comporte pas d’obligation générale d’anonymisation.\n",
    "Il s’agit d’une solution, parmi d’autres, pour pouvoir exploiter des données personnelles dans le respect des droits et libertés des personnes.\n",
    "\n",
    "En effet, l’anonymisation ouvre des potentiels de réutilisation des données initialement interdits du fait du caractère personnel des données exploitées, et permet ainsi aux acteurs d’exploiter et de partager leur « gisement » de données sans porter atteinte à la vie privée des personnes. Elle permet également de conserver des données au-delà de leur durée de conservation.\n",
    "\n",
    "\n",
    "Dans ce cas, la législation relative à la protection des données ne s’applique plus, car la diffusion ou la réutilisation des données anonymisées n’a pas d’impact sur la vie privée des personnes concernées.\n",
    "\n",
    "* différentes méthodes\n",
    "* equilibre en densité d'information des données et caractère anonyme"
   ]
  },
  {
   "cell_type": "markdown",
   "id": "8e6a44e4",
   "metadata": {
    "slideshow": {
     "slide_type": "slide"
    }
   },
   "source": [
    "## Etape 2 - Changer de nom: la pseudonymisation\n",
    "\n",
    "1. Supprimer les identificateurs et les remplacer par une valeur unique par patient.\n",
    "2. Chargez les données pseudonymisées. Combien d'individus vous arrivez à identifier de manière unique et pour combien retrouvez vous le nom et le prénom ?\n",
    "    * Quelles sont selon vous les limites de la pseudonymisation ?\n",
    "    * Que feriez vous pour améliorer cette approche ?\n",
    "3. Mettez en oeuvre vos idées. Pour rappel, dans le cadre de votre étude, il vous faut conserver au minimum au sujet des patients:\n",
    "    * une idée de l'âge\n",
    "    * le genre\n",
    "    * une idée de la localisation géographique\n",
    "    * consommation d'alcool, activité physique & tension artérielle"
   ]
  },
  {
   "cell_type": "markdown",
   "id": "95a3f715",
   "metadata": {
    "slideshow": {
     "slide_type": "slide"
    }
   },
   "source": [
    "# Petite pause - Funs facts sur la pseudonymisation"
   ]
  },
  {
   "cell_type": "markdown",
   "id": "b9394c90",
   "metadata": {
    "slideshow": {
     "slide_type": "subslide"
    }
   },
   "source": [
    "### Données de santé au Massachusetts\n",
    "\n",
    "* En 2001, Sweeney a croisé deux bases de données non pas sur des champs directement identifiants, mais sur un triplet de valeurs : code postal, date de naissance et sexe. \n",
    "\n",
    "* Ces données sont une base de données médicale pseudonymisée de fonctionnaires du Massachusetts:\n",
    "\n",
    "> *In Massachusetts, the Group Insurance Commission (GIC) is responsible for purchasing health insurance for state employees. GIC collected patient specific data with nearly one hundred attributes per encounter [...] for approximately 135,000 state employees and their families. Because the data were believed to be anonymous, GIC gave a copy of the data to researchers and sold a copy to industry.*"
   ]
  },
  {
   "cell_type": "markdown",
   "id": "cae12a65",
   "metadata": {
    "slideshow": {
     "slide_type": "subslide"
    }
   },
   "source": [
    "* Et la liste électorale de l'état du Massachusetts:\n",
    "\n",
    "> *For twenty dollars I purchased the voter registration list for Cambridge Massachusetts and received the information on two diskettes [...] these data included the name, address, ZIP code, birth date, and gender of each voter.*\n",
    "\n",
    "* Elle a ainsi pu relier des données médicales à des individus (en l’occurrence le gouverneur de l’Etat).\n",
    "\n",
    "> *Combinations of few characteristics often combine in populations to uniquely or nearly uniquely identify some individuals. For example, a finding in that study was that 87% (216 million of 248 million) of the population in the United States\n",
    "had reported characteristics that likely made them unique based only on {5-digit ZIP, gender, date of birth}.*\n",
    "\n",
    "https://epic.org/privacy/reidentification/Sweeney_Article.pdf"
   ]
  },
  {
   "cell_type": "markdown",
   "id": "4cb6dc6a",
   "metadata": {
    "slideshow": {
     "slide_type": "subslide"
    }
   },
   "source": [
    "# Le prix Netflix\n",
    "\n",
    "* De 2006 à 2009, Netflix organisa une compétition offrant 1 000 000 \\$ à quiconque pourrait améliorer de 10% son système de recommandation et a mis à disposition pour permettre des candidats un jeu de données pseudonymisé afin qu'ils puissent entraîner leurs modèles.\n",
    "\n",
    "* Attaque par linkage réalisée par Arvind Narayanan and Vitaly Shmatikov à partir de notes attribuées sur IMDb: ré-identification partielle de la base de données fournie par Netflix, révélant de fait l'identité et les attributs de clients de la société. \n",
    "\n",
    "> *Very little auxiliary information is needed for de-anonymize an average subscriber record from the Netflix Prize dataset. With 8 movie ratings (of which 2 may be completely wrong) and dates that may have a 14-day error, 99% of records be uniquely identified in the dataset. For 68%, two ratings and dates (with a 3-day error) are sufficient (Figure 1). Even for the other 32%, the number of possible candidates is brought down dramatically.*"
   ]
  },
  {
   "cell_type": "markdown",
   "id": "28ec64de",
   "metadata": {
    "slideshow": {
     "slide_type": "subslide"
    }
   },
   "source": [
    "* Ils présentent (entre autres) deux éléments intéressants. Même pour des cas \"difficiles\", il ne suffit que de peu d'informations complémentaires pour permettre l'identification:\n",
    "\n",
    "> *Given how little auxiliary information is needed to de-anonymize the average subscriber record from the Netflix Prize dataset, a determined adversary should not find it difficult to obtain such information, especially since it need not be precise. A water-cooler conversation with an office colleague about her cinematographic likes and dislikes may yield enough information*\n",
    "\n",
    "* Il faut être extrêmement précautionneux au sujet des quasi-identificateurs: \n",
    "\n",
    "> *it is possible to learn sensitive non-public information about a person’s political or even sexual preferences. We assert that even if the vast majority of Netflix subscribers did not care about the privacy of their movie ratings (which is not obvious by any means), our analysis would still indicate serious privacy issues with the Netflix Prize dataset*\n",
    "\n",
    "* https://arxiv.org/pdf/cs/0610105.pdf\n",
    "* https://www.wired.com/images_blogs/threatlevel/2009/12/doe-v-netflix.pdf"
   ]
  },
  {
   "cell_type": "markdown",
   "id": "baf2102c",
   "metadata": {
    "slideshow": {
     "slide_type": "notes"
    }
   },
   "source": [
    "https://journals.plos.org/plosgenetics/article?id=10.1371/journal.pgen.1000167"
   ]
  },
  {
   "cell_type": "markdown",
   "id": "39d4128b",
   "metadata": {
    "slideshow": {
     "slide_type": "slide"
    }
   },
   "source": [
    "# k-anonymisation\n",
    "\n",
    "* Réduire \"le niveau de détail des données\" de telle sorte qu’il y ait au moins k n-uplets différents qui ont la même valeur de quasi-identifiant. On parle alors de **classe d'équivalence**.\n",
    "\n",
    "* Trois mécanismes principaux permettent de k-anonymiser:\n",
    "    * **Suppression**: On supprime certaines variables qui qualifient un individu (si on peut se le permettre).\n",
    "    * **Généralisation**: On regroupe certaines valeurs de variables.  \n",
    "    * **Randomisation**: On permute / ajoute du bruit à certaines valeurs en tentant de conserver les distributions d'intérêt (plus complexe à mettre en oeuvre).\n"
   ]
  },
  {
   "cell_type": "markdown",
   "id": "5576ba71",
   "metadata": {
    "slideshow": {
     "slide_type": "slide"
    }
   },
   "source": [
    "## Les limites de la K-anonymisation\n",
    "\n",
    "###  Techniques\n",
    "\n",
    "* K-anonymiser un jeu de données est un problème **NP-Difficile**: déterminer les généralisations à effectuer pour produire les quasi-identifiants (par un expert humain qui connaît le domaine ou automatiquement) est souvent très coûteux. Il existe des heuristiques sans garantie d'optimalité.\n",
    "\n",
    "* Du fait de la combinatoire, la K-anonymization ne sera pas envisagable pour des jeux de données présentant un nombre de variables important et/ou un nombre d'individus faible."
   ]
  },
  {
   "cell_type": "markdown",
   "id": "f455a00e",
   "metadata": {
    "slideshow": {
     "slide_type": "subslide"
    }
   },
   "source": [
    "### Exploitation des données\n",
    "\n",
    "* La K-anonymisation déforme la distribution des données. En particulier, en généralisant de manière disproportionnée les variables associées à des individus isolés."
   ]
  },
  {
   "cell_type": "markdown",
   "id": "4f3c1df5",
   "metadata": {
    "slideshow": {
     "slide_type": "subslide"
    }
   },
   "source": [
    "### Attaques pour permettre une réidentification\n",
    "\n",
    "Par inférence, on peut déduire les valeurs sensibles d'un individu à partir de sa classe d'équivalence, avec ou sans information additionnelles.\n",
    "\n",
    "* **Homogeneity Attack**: Cette attaque se base sur le simple fait que si toutes les valeurs sensibles associées à une classe d'équivalence sont identiques, il est possible de prédire la valeur de la donnée sensible associée au groupe malgré la K-anonymisation.\n",
    "\n",
    "* **Background Knowledge Attack**: Cette attaque utilise une association connue entre une variable ou un ensemble de variables et la valeur sensible (ex: les patients japonais ont une prévalence de maladie cardiaque faible) pour réduire le nombre de valeurs sensibles possibles associées à un patient et augmenter la probabilité de réidentification.\n",
    "\n",
    "* **Information négative**: On peut exclure tout un ensemble de valeurs associées à un individu dans un jeu  de données k-anonymisé."
   ]
  },
  {
   "cell_type": "markdown",
   "id": "74b823ef",
   "metadata": {
    "slideshow": {
     "slide_type": "subslide"
    }
   },
   "source": [
    "On notera qu'on peut attaquer un jeu de données anonymisé selon deux scenarii pour un individu isolé:\n",
    "\n",
    "1. **Le scenario du procureur (prosecutor)**: On sait qu'un individu identifié donné est présent dans la base de données anonymisée et on souhaite retrouver ses données.\n",
    "2. **Le scenario du journaliste**: On cherche à identifier un individu quel qu'il soit.\n",
    "\n",
    "https://www.ncbi.nlm.nih.gov/pmc/articles/PMC2528029/pdf/627.S1067502708001047.main.pdf"
   ]
  },
  {
   "cell_type": "markdown",
   "id": "8611be8b",
   "metadata": {
    "slideshow": {
     "slide_type": "slide"
    }
   },
   "source": [
    "## Etape 3 - Se fondre dans la masse : la K-anonymisation\n",
    "\n",
    "1. Déterminez le paramètre K associé à votre anonymisation\n",
    "2. Décrivez sur papier un algorithme simple pour automatiser la procédure de K-anonymisation (vous pouvez l'implémenter en bonus)\n",
    "3. 5-anonymisez ces données (manuellement, à partir du package **anonymity** ou de votre propre implémentation)\n",
    "4. En vous servant des différentes limites de la K-anonymisation, tâchez de retrouver le plus d'informations possibles sur les patients du jeu de données K-anonymisé (*scenario du journaliste*)"
   ]
  },
  {
   "cell_type": "markdown",
   "id": "05f929d6",
   "metadata": {
    "slideshow": {
     "slide_type": "subslide"
    }
   },
   "source": [
    "5. Que pouvez vous dire en particulier des patients suivants en ne vous servant que du jeu de données K-anonymisé (*scenario du procureur*)? \n",
    "\n",
    "| nom       | prenom   |   age |   sexe |   code_postal |\n",
    "|:----------|:---------|------:|-------:|--------------:|\n",
    "| LEMERLE   | NELLIE   |    19 |      2 |         69430 |\n",
    "| KEHYRIAN  | ELODIE   |    20 |      2 |         69100 |\n",
    "| RAYNAL    | MARINA   |    70 |      2 |         69620 |\n",
    "| GLOTIN    | SIMON    |    72 |      1 |         69200 |\n",
    "| HASCOET   | MARION   |    57 |      2 |         69840 |\n",
    "| GUILLAUME | CHANTAL  |    68 |      2 |         69003 |\n",
    "\n",
    "6. Pouvez-vous répondre à ces questions ?\n",
    "    * Combien de patients ont participé à l'étude ?\n",
    "    * Combien de patients ont une tension artérielle très élevée ?\n",
    "    * Comparez le nombre de patients avec une tension artérielle élevée ou très élevée selon si ils ont une consomation d'alcool élevée ou non ?\n",
    "    * Les patients de Villeurbanne (69100) ont ils une tension artérielle plus élevée que celle des autres ?"
   ]
  },
  {
   "cell_type": "markdown",
   "id": "f612cf73",
   "metadata": {
    "slideshow": {
     "slide_type": "slide"
    }
   },
   "source": [
    "## Etape 3 (Bonus) : la L-diversité\n",
    "\n",
    "On ajoute une contrainte supplémentaire à la K-anonymisation en ayant non seulement au moins k n-uplets dans une classe d’équivalence, mais en plus le champ sensible associé à la classe d’équivalence doit prendre au moins l valeurs distinctes.\n",
    "\n",
    "1. utilisez le package **anonymity** pour comparer les comportements de la K-anonymisation et de la L-diversité. Qu'apporte la L-diversité, à quel(s) coût(s) ?\n",
    "\n",
    "<center>\n",
    "    \n",
    "<img src=\"images/clone_resized.gif\" width=\"240\" alt=\"clones\">\n",
    "</center>"
   ]
  },
  {
   "cell_type": "markdown",
   "id": "934052d6",
   "metadata": {
    "slideshow": {
     "slide_type": "slide"
    }
   },
   "source": [
    "## La confidentialité différentielle\n",
    "\n",
    "* **Intuition:**\n",
    "\n",
    "> “You will not be affected, adversely or otherwise, by allowing your data to be used in any study or analysis, no matter what other studies, data sets, or information sources, are available.”\n",
    "\n",
    "> \"Differential privacy addresses the paradox of learning nothing about an individual while learning useful information about a population.\"\n",
    "\n",
    "> \"Differential privacy will take the view that it was not, with the rationale that the impact on the smoker is the same independent of whether or not he was in the study\"\n",
    "\n",
    "https://www.cis.upenn.edu/~aaroth/Papers/privacybook.pdf"
   ]
  },
  {
   "cell_type": "markdown",
   "id": "f3634fae",
   "metadata": {
    "slideshow": {
     "slide_type": "slide"
    }
   },
   "source": [
    "## Définition \n",
    "\n",
    "* La confidentialité différentielle s'appuie sur une définition mathématique de la perte de \"privacy\" associée à toute requête sur une base de données. Un mécanisme M est dit \"differentially private\" si $\\forall S$ sous-ensemble de l'image de M, et $\\forall x, y$ jeu de données (entrées de M):\n",
    "\n",
    "$$ P[ M(x) \\in S] \\leq e^{\\epsilon} P[ M(y) \\in S] + \\delta $$\n",
    "\n",
    "* M prend en entrée un jeu de données et produit une tranformation à partir de ces données (une sorte de moyenne, une sorte d'histogramme, ...). M doit être stochastique pour être \"differentially private\".\n"
   ]
  },
  {
   "cell_type": "markdown",
   "id": "bb90b73f",
   "metadata": {
    "slideshow": {
     "slide_type": "subslide"
    }
   },
   "source": [
    "$$ P[ M(x) \\in S] \\leq e^{\\epsilon} P[ M(y) \\in S] + \\delta $$\n",
    "\n",
    "* x, y sont des jeux de données qui diffèrent d'au plus une entrée (individu). Souvent décrit comme $\\lVert x - y \\rVert_1 = 1$\n",
    "* $\\epsilon$ et $\\delta$ sont des paramètres qui permettent d'ajuster l'équilibre entre risque d'identification d'un individu et exploitation des données.\n",
    "    * $ \\delta$ probabilité de \"data breach\". Doit être très faible.\n",
    "    * $\\epsilon$ A l'exception de l'évenement de \"data breach\", la probabilité d'obtenir un résultat différent de M en l'absence d'un individu dans la base est au plus (en espérance) $e^{\\epsilon}$. Des valeurs raisonnables de $\\epsilon$ seraient comprises entre 0 & 5. Au dela de 10, le bruit rend M inutile."
   ]
  },
  {
   "cell_type": "markdown",
   "id": "84320669",
   "metadata": {
    "slideshow": {
     "slide_type": "slide"
    }
   },
   "source": [
    "## L1-sensitivity\n",
    "\n",
    "\n",
    "> Pour x, y tel que $\\lVert x - y \\rVert_1 \\leq 1 $ et pour une requête $f$,\n",
    ">\n",
    "> $$ \\Delta f = max \\lVert f(x) - f(y) \\rVert_1 $$\n",
    "\n",
    "## La distribution de Laplace\n",
    "\n",
    "> Distribution de Laplace (centrée en 0)\n",
    "> $$L(x|b) = \\frac{1}{2b}e^{-\\frac{\\lvert x \\rvert}{b}}$$\n",
    "\n",
    "<center>\n",
    "    \n",
    "<img src=\"images/laplace.png\" width=\"240\" alt=\"laplace_distribution\">\n",
    "</center>"
   ]
  },
  {
   "cell_type": "markdown",
   "id": "ac46311f",
   "metadata": {
    "slideshow": {
     "slide_type": "subslide"
    }
   },
   "source": [
    "## Mécanisme de Laplace\n",
    "\n",
    "Le mécanisme $M_L(f)$ obtenu par l'ajout d'un bruit qui suit une distribution de Laplace de paramètre $\\frac{\\Delta f}{\\epsilon}$ à une fonction $f$ est $\\epsilon$ -differentially private."
   ]
  },
  {
   "cell_type": "markdown",
   "id": "8d28ee15",
   "metadata": {
    "slideshow": {
     "slide_type": "slide"
    }
   },
   "source": [
    "## Etape 4 - Créer le doute:  la confidentialité différentielle\n",
    "\n",
    "* En vous inspirant de [ce notebook](https://github.com/OpenMined/PyDP/blob/dev/examples/Tutorial_3-Titanic_demo/titanic_notebook.ipynb), répondez aux questions suivantes et comparez les résultats obtenus avec ou sans confidentialité différentielle ?\n",
    "    * Combien de patients ont participé à l'étude ?\n",
    "    * Combien de patients ont une tension artérielle très élevée ?\n",
    "    * Comparez le nombre de patients avec une tension artérielle élevée ou très élevée selon si ils ont une consomation d'alcool élevée ou non ?\n",
    "    * Les patients de villeurbanne ont ils une tension artérielle plus élevée que celle des autres ?"
   ]
  },
  {
   "cell_type": "markdown",
   "id": "9650df75",
   "metadata": {
    "slideshow": {
     "slide_type": "slide"
    }
   },
   "source": [
    "Quelques très bonnes ressources sur la confidentialité différentielle:\n",
    "    \n",
    "* http://researchers.lille.inria.fr/abellet/teaching/private_machine_learning_course.html\n",
    "* https://www.youtube.com/watch?v=jylloCa0iWA&list=PLie7a1OUTSagV55BZIvBckZJrDXQ9zl6i\n",
    "* http://www.tdp.cat/issues11/tdp.a124a13.pdf\n",
    "* https://cpb-us-w2.wpmucdn.com/sites.gatech.edu/dist/c/679/files/2017/08/lecture2.pdf"
   ]
  },
  {
   "cell_type": "markdown",
   "id": "d9079c4e",
   "metadata": {
    "slideshow": {
     "slide_type": "notes"
    }
   },
   "source": [
    "* https://ec.europa.eu/justice/article-29/documentation/opinion-recommendation/files/2014/wp216_fr.pdf\n",
    "* https://www.enisa.europa.eu/publications/pseudonymisation-techniques-and-best-practices\n",
    "* https://www.ncbi.nlm.nih.gov/pmc/articles/PMC2528029/\n",
    "* https://desfontain.es/privacy/k-anonymity.html\n"
   ]
  }
 ],
 "metadata": {
  "celltoolbar": "Diaporama",
  "kernelspec": {
   "display_name": "Python 3",
   "language": "python",
   "name": "python3"
  },
  "language_info": {
   "codemirror_mode": {
    "name": "ipython",
    "version": 3
   },
   "file_extension": ".py",
   "mimetype": "text/x-python",
   "name": "python",
   "nbconvert_exporter": "python",
   "pygments_lexer": "ipython3",
   "version": "3.8.2"
  }
 },
 "nbformat": 4,
 "nbformat_minor": 5
}
